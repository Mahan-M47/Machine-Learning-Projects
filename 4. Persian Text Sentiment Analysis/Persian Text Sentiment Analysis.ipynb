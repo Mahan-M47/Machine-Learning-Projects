{
 "cells": [
  {
   "cell_type": "markdown",
   "id": "b71f1fab",
   "metadata": {},
   "source": [
    "**Mahan Madani - 99222092**\n",
    "\n",
    "Assignment 3 (Part 2) - Persian text sentiment analysis"
   ]
  },
  {
   "cell_type": "markdown",
   "id": "fd225e9e",
   "metadata": {},
   "source": [
    "## Table of Contents:\n",
    "\n",
    "- [Load Dataset and Import Libraries](##Load-Dataset-and-Import-Libraries)\n",
    "- [Data Analysis and Preprocessing](##Data-Analysis-and-Preprocessing)\n",
    "- [Feature Engineering](##Feature-Engineering)\n",
    "- [Feature Encoding](##Feature-Encoding)\n",
    "- [Utility Functions](##Utility-Functions)\n",
    "- [Train and Evaluate Models](##Train-and-Evaluate-Model)\n",
    "    - [Random Forest Classifier](###Random-Forest-Classifier)\n",
    "    - [Balanced Random Forest Classifier](###Balanced-Random-Forest-Classifier)\n",
    "    - [Support Vector Classifier](###Support-Vector-Classifier)\n",
    "- [Pediction for Test Data](##Pediction-for-Test-Data)"
   ]
  },
  {
   "cell_type": "markdown",
   "id": "ff5b17b0",
   "metadata": {},
   "source": [
    "## Load Dataset and Import Libraries"
   ]
  },
  {
   "cell_type": "markdown",
   "id": "d3ebdc4f",
   "metadata": {},
   "source": [
    "**Note**: I used Hazm in this project, which is a library to perform natural language processing tasks on Persian text. It offers various features for analyzing, processing, and understanding Persian text. You can use Hazm to normalize text, tokenize sentences and words, lemmatize words, assign part-of-speech tags, identify dependency relations, create word and sentence embeddings, or read popular Persian corpora."
   ]
  },
  {
   "cell_type": "code",
   "execution_count": 512,
   "id": "c08e9347",
   "metadata": {},
   "outputs": [],
   "source": [
    "import re\n",
    "\n",
    "import pandas as pd\n",
    "import numpy as np\n",
    "\n",
    "from scipy.sparse import hstack\n",
    "from sklearn.utils import resample\n",
    "\n",
    "from hazm.utils import stopwords_list\n",
    "from hazm import Stemmer\n",
    "\n",
    "from imblearn.ensemble import BalancedRandomForestClassifier, EasyEnsembleClassifier\n",
    "from sklearn.ensemble import RandomForestClassifier, BaggingClassifier\n",
    "from sklearn.svm import SVC\n",
    "\n",
    "from sklearn.preprocessing import LabelEncoder, StandardScaler, MinMaxScaler, MaxAbsScaler  \n",
    "from sklearn.feature_extraction.text import TfidfVectorizer\n",
    "from sklearn.decomposition import PCA\n",
    "\n",
    "from sklearn.metrics import accuracy_score, confusion_matrix, roc_auc_score, f1_score, roc_curve, classification_report\n",
    "from sklearn.model_selection import train_test_split, cross_val_score, RepeatedStratifiedKFold, GridSearchCV\n",
    "\n",
    "import matplotlib.pyplot as plt\n",
    "import seaborn as sns"
   ]
  },
  {
   "cell_type": "markdown",
   "id": "18d39cc7",
   "metadata": {},
   "source": [
    "After importing the dataset, I named the two existing columns Text and Sentiment. Our target is predicting the Sentiment of each text record."
   ]
  },
  {
   "cell_type": "code",
   "execution_count": 513,
   "metadata": {},
   "outputs": [
    {
     "name": "stdout",
     "output_type": "stream",
     "text": [
      "Index(['Text', 'Sentiment'], dtype='object')\n",
      "(4924, 2)\n"
     ]
    }
   ],
   "source": [
    "df = pd.read_excel(\"dataset/train_data.xlsx\", header=None)\n",
    "df.columns = ['Text', 'Sentiment']\n",
    "print(df.columns)\n",
    "print(df.shape)"
   ]
  },
  {
   "cell_type": "markdown",
   "id": "df5d0f53",
   "metadata": {},
   "source": [
    "## Data Analysis and Preprocessing"
   ]
  },
  {
   "cell_type": "code",
   "execution_count": 514,
   "id": "a8f46dd9",
   "metadata": {},
   "outputs": [
    {
     "data": {
      "text/html": [
       "<div>\n",
       "<style scoped>\n",
       "    .dataframe tbody tr th:only-of-type {\n",
       "        vertical-align: middle;\n",
       "    }\n",
       "\n",
       "    .dataframe tbody tr th {\n",
       "        vertical-align: top;\n",
       "    }\n",
       "\n",
       "    .dataframe thead th {\n",
       "        text-align: right;\n",
       "    }\n",
       "</style>\n",
       "<table border=\"1\" class=\"dataframe\">\n",
       "  <thead>\n",
       "    <tr style=\"text-align: right;\">\n",
       "      <th></th>\n",
       "      <th>Text</th>\n",
       "      <th>Sentiment</th>\n",
       "    </tr>\n",
       "  </thead>\n",
       "  <tbody>\n",
       "    <tr>\n",
       "      <th>0</th>\n",
       "      <td>کی گفته مرد گریه نمیکنه!؟!؟ سیلم امشب سیل #اصفهان</td>\n",
       "      <td>SAD</td>\n",
       "    </tr>\n",
       "    <tr>\n",
       "      <th>1</th>\n",
       "      <td>عکسی که چند روز پیش گذاشته بودم این فیلم الانش...</td>\n",
       "      <td>OTHER</td>\n",
       "    </tr>\n",
       "    <tr>\n",
       "      <th>2</th>\n",
       "      <td>تنهاییم شبیه تنهاییه ظهرای بچگیم شده وقتی که ه...</td>\n",
       "      <td>SAD</td>\n",
       "    </tr>\n",
       "  </tbody>\n",
       "</table>\n",
       "</div>"
      ],
      "text/plain": [
       "                                                Text Sentiment\n",
       "0  کی گفته مرد گریه نمیکنه!؟!؟ سیلم امشب سیل #اصفهان       SAD\n",
       "1  عکسی که چند روز پیش گذاشته بودم این فیلم الانش...     OTHER\n",
       "2  تنهاییم شبیه تنهاییه ظهرای بچگیم شده وقتی که ه...       SAD"
      ]
     },
     "execution_count": 514,
     "metadata": {},
     "output_type": "execute_result"
    }
   ],
   "source": [
    "pd.options.display.max_columns = None\n",
    "df.head(3)"
   ]
  },
  {
   "cell_type": "code",
   "execution_count": 515,
   "id": "98f34cf4",
   "metadata": {},
   "outputs": [
    {
     "data": {
      "text/html": [
       "<div>\n",
       "<style scoped>\n",
       "    .dataframe tbody tr th:only-of-type {\n",
       "        vertical-align: middle;\n",
       "    }\n",
       "\n",
       "    .dataframe tbody tr th {\n",
       "        vertical-align: top;\n",
       "    }\n",
       "\n",
       "    .dataframe thead th {\n",
       "        text-align: right;\n",
       "    }\n",
       "</style>\n",
       "<table border=\"1\" class=\"dataframe\">\n",
       "  <thead>\n",
       "    <tr style=\"text-align: right;\">\n",
       "      <th></th>\n",
       "      <th>Text</th>\n",
       "      <th>Sentiment</th>\n",
       "    </tr>\n",
       "  </thead>\n",
       "  <tbody>\n",
       "    <tr>\n",
       "      <th>count</th>\n",
       "      <td>4924</td>\n",
       "      <td>4924</td>\n",
       "    </tr>\n",
       "    <tr>\n",
       "      <th>unique</th>\n",
       "      <td>4924</td>\n",
       "      <td>5</td>\n",
       "    </tr>\n",
       "    <tr>\n",
       "      <th>top</th>\n",
       "      <td>کی گفته مرد گریه نمیکنه!؟!؟ سیلم امشب سیل #اصفهان</td>\n",
       "      <td>HAPPY</td>\n",
       "    </tr>\n",
       "    <tr>\n",
       "      <th>freq</th>\n",
       "      <td>1</td>\n",
       "      <td>1462</td>\n",
       "    </tr>\n",
       "  </tbody>\n",
       "</table>\n",
       "</div>"
      ],
      "text/plain": [
       "                                                     Text Sentiment\n",
       "count                                                4924      4924\n",
       "unique                                               4924         5\n",
       "top     کی گفته مرد گریه نمیکنه!؟!؟ سیلم امشب سیل #اصفهان     HAPPY\n",
       "freq                                                    1      1462"
      ]
     },
     "execution_count": 515,
     "metadata": {},
     "output_type": "execute_result"
    }
   ],
   "source": [
    "df.describe()"
   ]
  },
  {
   "cell_type": "code",
   "execution_count": 516,
   "id": "56c2e1b4",
   "metadata": {},
   "outputs": [
    {
     "data": {
      "text/plain": [
       "Sentiment\n",
       "HAPPY    1462\n",
       "OTHER    1263\n",
       "ANGRY    1012\n",
       "SAD       845\n",
       "FEAR      342\n",
       "Name: count, dtype: int64"
      ]
     },
     "execution_count": 516,
     "metadata": {},
     "output_type": "execute_result"
    }
   ],
   "source": [
    "df['Sentiment'].value_counts()"
   ]
  },
  {
   "cell_type": "markdown",
   "id": "8f714263",
   "metadata": {},
   "source": [
    "There is no need to check for duplicate values as shown in the previous section's results.\n",
    "The dataset contains 4924 unique and non-null values in the text column.\n",
    "A total of 5 different sentiments exist in the dataset.\n",
    "\n",
    "Additionally, since we're working with persian text data, searching for outlier values is a tedious task and likely requires human input. Therefore I decided not to search for the outliers and simply try to clean the text as much as possible."
   ]
  },
  {
   "cell_type": "code",
   "execution_count": 517,
   "metadata": {},
   "outputs": [
    {
     "data": {
      "text/html": [
       "<div>\n",
       "<style scoped>\n",
       "    .dataframe tbody tr th:only-of-type {\n",
       "        vertical-align: middle;\n",
       "    }\n",
       "\n",
       "    .dataframe tbody tr th {\n",
       "        vertical-align: top;\n",
       "    }\n",
       "\n",
       "    .dataframe thead th {\n",
       "        text-align: right;\n",
       "    }\n",
       "</style>\n",
       "<table border=\"1\" class=\"dataframe\">\n",
       "  <thead>\n",
       "    <tr style=\"text-align: right;\">\n",
       "      <th></th>\n",
       "      <th>Null Count</th>\n",
       "    </tr>\n",
       "  </thead>\n",
       "  <tbody>\n",
       "    <tr>\n",
       "      <th>Text</th>\n",
       "      <td>0</td>\n",
       "    </tr>\n",
       "    <tr>\n",
       "      <th>Sentiment</th>\n",
       "      <td>0</td>\n",
       "    </tr>\n",
       "  </tbody>\n",
       "</table>\n",
       "</div>"
      ],
      "text/plain": [
       "           Null Count\n",
       "Text                0\n",
       "Sentiment           0"
      ]
     },
     "execution_count": 517,
     "metadata": {},
     "output_type": "execute_result"
    }
   ],
   "source": [
    "null_counts = df.isnull().sum()\n",
    "null_table = pd.DataFrame(null_counts, columns=[\"Null Count\"])\n",
    "null_table"
   ]
  },
  {
   "cell_type": "markdown",
   "id": "b7087827",
   "metadata": {},
   "source": [
    "This plot displays the distribution of our Target classes. As you can see, the dataset is imbalanced and we will need to address this issue when training models. I tried various methods which I'll explain further in this file."
   ]
  },
  {
   "cell_type": "code",
   "execution_count": 519,
   "id": "def03f45",
   "metadata": {},
   "outputs": [
    {
     "data": {
      "image/png": "[encoded data removed]",
      "text/plain": [
       "<Figure size 640x480 with 1 Axes>"
      ]
     },
     "metadata": {},
     "output_type": "display_data"
    }
   ],
   "source": [
    "df['Sentiment'].value_counts().plot(kind='bar', color='skyblue', edgecolor='black')\n",
    "\n",
    "plt.title('Distribution of text sentiments')\n",
    "plt.ylabel('Count')\n",
    "plt.xlabel('Sentiment')\n",
    "plt.show()"
   ]
  },
  {
   "cell_type": "markdown",
   "id": "2f55c095",
   "metadata": {},
   "source": [
    "## Feature Engineering"
   ]
  },
  {
   "cell_type": "code",
   "execution_count": 520,
   "id": "1dcbae9c",
   "metadata": {},
   "outputs": [
    {
     "data": {
      "text/html": [
       "<div>\n",
       "<style scoped>\n",
       "    .dataframe tbody tr th:only-of-type {\n",
       "        vertical-align: middle;\n",
       "    }\n",
       "\n",
       "    .dataframe tbody tr th {\n",
       "        vertical-align: top;\n",
       "    }\n",
       "\n",
       "    .dataframe thead th {\n",
       "        text-align: right;\n",
       "    }\n",
       "</style>\n",
       "<table border=\"1\" class=\"dataframe\">\n",
       "  <thead>\n",
       "    <tr style=\"text-align: right;\">\n",
       "      <th></th>\n",
       "      <th>Text</th>\n",
       "      <th>Sentiment</th>\n",
       "    </tr>\n",
       "  </thead>\n",
       "  <tbody>\n",
       "    <tr>\n",
       "      <th>3644</th>\n",
       "      <td>اصلی نیست اصلا شارژ نمیشه از دیجی انتظار نداشتم</td>\n",
       "      <td>ANGRY</td>\n",
       "    </tr>\n",
       "    <tr>\n",
       "      <th>4725</th>\n",
       "      <td>کلا پیشنهاد نمیکنم حتی تو پیشنهاد ویژه</td>\n",
       "      <td>ANGRY</td>\n",
       "    </tr>\n",
       "    <tr>\n",
       "      <th>2970</th>\n",
       "      <td>مگه دوست پسرتونیم هعی قهر می‌کنید باید نازتونو...</td>\n",
       "      <td>ANGRY</td>\n",
       "    </tr>\n",
       "    <tr>\n",
       "      <th>1431</th>\n",
       "      <td>من انقدر تو دوست داشتنت وفادار بودم که الان حا...</td>\n",
       "      <td>SAD</td>\n",
       "    </tr>\n",
       "    <tr>\n",
       "      <th>2504</th>\n",
       "      <td>فقط جای فلش یکمی تنگه باعث میشه که فلش خط خطی شه</td>\n",
       "      <td>ANGRY</td>\n",
       "    </tr>\n",
       "  </tbody>\n",
       "</table>\n",
       "</div>"
      ],
      "text/plain": [
       "                                                   Text Sentiment\n",
       "3644    اصلی نیست اصلا شارژ نمیشه از دیجی انتظار نداشتم     ANGRY\n",
       "4725             کلا پیشنهاد نمیکنم حتی تو پیشنهاد ویژه     ANGRY\n",
       "2970  مگه دوست پسرتونیم هعی قهر می‌کنید باید نازتونو...     ANGRY\n",
       "1431  من انقدر تو دوست داشتنت وفادار بودم که الان حا...       SAD\n",
       "2504   فقط جای فلش یکمی تنگه باعث میشه که فلش خط خطی شه     ANGRY"
      ]
     },
     "execution_count": 520,
     "metadata": {},
     "output_type": "execute_result"
    }
   ],
   "source": [
    "df.sample(5)"
   ]
  },
  {
   "cell_type": "markdown",
   "id": "7b62ad68",
   "metadata": {},
   "source": [
    "I defined a list of keywords usually associated with each class. I usued the training data as a reference but the data from the test set was not used to generate these lists. \n",
    "\n",
    "Each of these lists are used to extract new feature from the Text column. These features are: `Happy_Words` , `Sad_Words`, `Angry_Words`, and `Fear_Words`.\n",
    "\n",
    " For each record, if any of these words exists in the text column, then the value of the respective feature is set to 1.\n",
    " \n",
    " For example if the text contains words from `happy_list`, then the value of the `Happy_Words` feature is set to 1 for that specific record."
   ]
  },
  {
   "cell_type": "code",
   "execution_count": 521,
   "id": "7f6222d6",
   "metadata": {},
   "outputs": [],
   "source": [
    "happy_list = \"لذت خوب خوبه خوبی خوبیه عالی عالیه خوشحال خوشحالم خوشحالی شاد جذاب دوست عشق عاشق قشنگ زیبا راضی راضیم دوست مناسب شیک راحت محبوب مبارک مبارکه بهتر بهترین بهترینه\".split()\n",
    "sad_list = \"گریه اشک تنها تنهایی غم غمگین غمگینم غمناک غم‌انگیز متاسفم متاسفانه سقوط کاش ای‌کاش کاشکی فراموش خبر ناراحت ناراحتی افسوس  خراب سخت\".split()\n",
    "angry_list = \"قدیمی تعطیل تحمل ضرر سم سمی لعنت لعنتی لعنتیا فیک بلاک پاره آشغال احمق کثیف آتش آتیش اجباری اجباریه گران گرون گرونه بد بده بدتر بدتره بدترین\".split()\n",
    "fear_list = \"ترس میترسم می‌ترسم نگران نگرانی نگرانم تباه تباهی بدبخت بدبختی فرار کابوس سقوط زلزله کرونا ویروس مرگ\".split()"
   ]
  },
  {
   "cell_type": "markdown",
   "id": "858ad968",
   "metadata": {},
   "source": [
    "Certain letters in the persian alphabet have multiple characters associated with them. The function `replace_letters` replaces some of the less common versions of these letters with the standardized version."
   ]
  },
  {
   "cell_type": "code",
   "execution_count": 522,
   "id": "cc1d159a",
   "metadata": {},
   "outputs": [],
   "source": [
    "def replace_letters(text):\n",
    "    text = re.sub(r'ي', 'ی', text)\n",
    "    text = re.sub(r'ك', 'ک', text)\n",
    "    text = re.sub(r'آ', 'ا', text)\n",
    "    return text"
   ]
  },
  {
   "cell_type": "markdown",
   "id": "c881cbfa",
   "metadata": {},
   "source": [
    "This function (`extract_features`) is used to add all of the sentiment-related features (as explained above) and a `Word_Count` feature, indicating the number of words each Text field has."
   ]
  },
  {
   "cell_type": "code",
   "execution_count": 523,
   "id": "5032f811",
   "metadata": {},
   "outputs": [],
   "source": [
    "def extract_features(dataframe):\n",
    "    dataframe['Text'] = dataframe['Text'].apply(replace_letters)\n",
    "\n",
    "    dataframe['Happy_Words'] = dataframe['Text'].apply(lambda text: bool(set(text.split()) & set(happy_list))).astype(int)\n",
    "    dataframe['Sad_Words']   = dataframe['Text'].apply(lambda text: bool(set(text.split()) & set(sad_list))).astype(int)\n",
    "    dataframe['Angry_Words'] = dataframe['Text'].apply(lambda text: bool(set(text.split()) & set(angry_list))).astype(int)\n",
    "    dataframe['Fear_Words']  = dataframe['Text'].apply(lambda text: bool(set(text.split()) & set(fear_list))).astype(int)\n",
    "\n",
    "    dataframe['Word_Count']  = dataframe['Text'].apply(lambda text: len(text.split()))"
   ]
  },
  {
   "cell_type": "markdown",
   "id": "668f2cb9",
   "metadata": {},
   "source": [
    "The main goal of the `clean_text` function is to remove unnecessary characters from the text field and simplify the words as much as possible.\n",
    "\n",
    "First, persian (and non-persian) symbols are removed from the text. I decied to keep emojis as they can help classify the overall tone of a sentence. \n",
    "\n",
    "Then I removed all consecutively repeated characters and replaced them with one instance of that character (hellllo will become helo).\n",
    "\n",
    "I used a `Stemmer` from the Hazm library to simplify words and find their roots.\n",
    "\n",
    "Finally, I used a modified version of the persian stop words list from Hazm. This list is used to remove stop words from the text. eliminating meaningless words and ensuring only the most crucial aspects of a sentence are stored."
   ]
  },
  {
   "cell_type": "code",
   "execution_count": 591,
   "id": "a001fb8c",
   "metadata": {},
   "outputs": [
    {
     "name": "stdout",
     "output_type": "stream",
     "text": [
      "🏆 متن فارس پاکساز توقف حذف\n"
     ]
    }
   ],
   "source": [
    "persian_stop_words = stopwords_list() + ['نمی' , 'ها', 'های', 'ی']\n",
    "persian_stop_words.remove('خوب')\n",
    "\n",
    "def clean_text(text):\n",
    "    text = text.lower()\n",
    "    \n",
    "    # Remove repeating characters and symbols\n",
    "    text = re.sub(r'(.)\\1+', r'\\1', text)\n",
    "    text = re.sub(r'[؟?!،؛٪×،«»‹›ـ…—–۰-۹#-_]+', ' ', text)\n",
    "    text = re.sub(r'\\s+', ' ', text)\n",
    "\n",
    "    # Stemming\n",
    "    stemmer = Stemmer()\n",
    "    words = text.split()\n",
    "    words = [stemmer.stem(word) for word in words]\n",
    "\n",
    "    # Remove stop words\n",
    "    words = [word for word in words if (word not in persian_stop_words)]\n",
    "\n",
    "    return ' '.join(words)\n",
    "\n",
    "\n",
    "# Example\n",
    "persian_text = \"123  🏆 این متن فارسی باید پاکسازی شود و کلمات توقف حذف شوند.\"\n",
    "cleaned_text = clean_text(persian_text)\n",
    "print(cleaned_text)"
   ]
  },
  {
   "cell_type": "markdown",
   "id": "120ceb5a",
   "metadata": {},
   "source": [
    "The new features are added to the dataset. The `Cleaned_Text` feature is the result of applying `clean_text()` to the existing text feature."
   ]
  },
  {
   "cell_type": "code",
   "execution_count": 592,
   "id": "8debc536",
   "metadata": {},
   "outputs": [
    {
     "data": {
      "text/plain": [
       "Index(['Text', 'Sentiment', 'Happy_Words', 'Sad_Words', 'Angry_Words',\n",
       "       'Fear_Words', 'Word_Count', 'Cleaned_Text'],\n",
       "      dtype='object')"
      ]
     },
     "execution_count": 592,
     "metadata": {},
     "output_type": "execute_result"
    }
   ],
   "source": [
    "extract_features(df)\n",
    "df['Cleaned_Text'] = df['Text'].apply(clean_text)\n",
    "df.columns"
   ]
  },
  {
   "cell_type": "code",
   "execution_count": 593,
   "id": "a4ea9b52",
   "metadata": {},
   "outputs": [
    {
     "data": {
      "text/html": [
       "<div>\n",
       "<style scoped>\n",
       "    .dataframe tbody tr th:only-of-type {\n",
       "        vertical-align: middle;\n",
       "    }\n",
       "\n",
       "    .dataframe tbody tr th {\n",
       "        vertical-align: top;\n",
       "    }\n",
       "\n",
       "    .dataframe thead th {\n",
       "        text-align: right;\n",
       "    }\n",
       "</style>\n",
       "<table border=\"1\" class=\"dataframe\">\n",
       "  <thead>\n",
       "    <tr style=\"text-align: right;\">\n",
       "      <th></th>\n",
       "      <th>Text</th>\n",
       "      <th>Sentiment</th>\n",
       "      <th>Happy_Words</th>\n",
       "      <th>Sad_Words</th>\n",
       "      <th>Angry_Words</th>\n",
       "      <th>Fear_Words</th>\n",
       "      <th>Word_Count</th>\n",
       "      <th>Cleaned_Text</th>\n",
       "    </tr>\n",
       "  </thead>\n",
       "  <tbody>\n",
       "    <tr>\n",
       "      <th>484</th>\n",
       "      <td>خیلی کوچیکه برای بچه خوبه و واقعا جنس چرمش بده</td>\n",
       "      <td>HAPPY</td>\n",
       "      <td>1</td>\n",
       "      <td>0</td>\n",
       "      <td>1</td>\n",
       "      <td>0</td>\n",
       "      <td>10</td>\n",
       "      <td>خیل کوچیکه برا بچه خوبه واقعا جنس چرم بده</td>\n",
       "    </tr>\n",
       "    <tr>\n",
       "      <th>2371</th>\n",
       "      <td>فکت : هیچکس نمی تواند شما را دوست داشته باشد، ...</td>\n",
       "      <td>SAD</td>\n",
       "      <td>1</td>\n",
       "      <td>1</td>\n",
       "      <td>0</td>\n",
       "      <td>0</td>\n",
       "      <td>20</td>\n",
       "      <td>فک هیچکس نم تواند دوس ب  کس برا گریه اس</td>\n",
       "    </tr>\n",
       "    <tr>\n",
       "      <th>1423</th>\n",
       "      <td>قرار بشه اقای رئیسی درخواستشو داده حالا دیگه ...</td>\n",
       "      <td>OTHER</td>\n",
       "      <td>0</td>\n",
       "      <td>0</td>\n",
       "      <td>0</td>\n",
       "      <td>0</td>\n",
       "      <td>9</td>\n",
       "      <td>قرار بشه اقا رئیس درخواستشو دیگه نمیدون</td>\n",
       "    </tr>\n",
       "    <tr>\n",
       "      <th>3601</th>\n",
       "      <td>قطعاً مظلوم و بی‌گناه بود. #مهسا_امینی</td>\n",
       "      <td>SAD</td>\n",
       "      <td>0</td>\n",
       "      <td>0</td>\n",
       "      <td>0</td>\n",
       "      <td>0</td>\n",
       "      <td>6</td>\n",
       "      <td>قطعاً مظلو بی‌گناه مهسا امین</td>\n",
       "    </tr>\n",
       "    <tr>\n",
       "      <th>761</th>\n",
       "      <td>برای اونها که عشق تویوتا هستن عالیه</td>\n",
       "      <td>HAPPY</td>\n",
       "      <td>1</td>\n",
       "      <td>0</td>\n",
       "      <td>0</td>\n",
       "      <td>0</td>\n",
       "      <td>7</td>\n",
       "      <td>برا اون عشق تویوتا هستن عالیه</td>\n",
       "    </tr>\n",
       "  </tbody>\n",
       "</table>\n",
       "</div>"
      ],
      "text/plain": [
       "                                                   Text Sentiment   \n",
       "484      خیلی کوچیکه برای بچه خوبه و واقعا جنس چرمش بده     HAPPY  \\\n",
       "2371  فکت : هیچکس نمی تواند شما را دوست داشته باشد، ...       SAD   \n",
       "1423   قرار بشه اقای رئیسی درخواستشو داده حالا دیگه ...     OTHER   \n",
       "3601             قطعاً مظلوم و بی‌گناه بود. #مهسا_امینی       SAD   \n",
       "761                 برای اونها که عشق تویوتا هستن عالیه     HAPPY   \n",
       "\n",
       "      Happy_Words  Sad_Words  Angry_Words  Fear_Words  Word_Count   \n",
       "484             1          0            1           0          10  \\\n",
       "2371            1          1            0           0          20   \n",
       "1423            0          0            0           0           9   \n",
       "3601            0          0            0           0           6   \n",
       "761             1          0            0           0           7   \n",
       "\n",
       "                                   Cleaned_Text  \n",
       "484   خیل کوچیکه برا بچه خوبه واقعا جنس چرم بده  \n",
       "2371    فک هیچکس نم تواند دوس ب  کس برا گریه اس  \n",
       "1423    قرار بشه اقا رئیس درخواستشو دیگه نمیدون  \n",
       "3601               قطعاً مظلو بی‌گناه مهسا امین  \n",
       "761               برا اون عشق تویوتا هستن عالیه  "
      ]
     },
     "execution_count": 593,
     "metadata": {},
     "output_type": "execute_result"
    }
   ],
   "source": [
    "df.sample(5)"
   ]
  },
  {
   "cell_type": "markdown",
   "id": "934e1db2",
   "metadata": {},
   "source": [
    "## Feature Encoding"
   ]
  },
  {
   "cell_type": "markdown",
   "id": "00f1d1ab",
   "metadata": {},
   "source": [
    "I used the TF-IDF vectorizer to embed the text data into vectors.\n",
    "\n",
    "TF-IDF (Term Frequency-Inverse Document Frequency) is a technique used to quantify the importance of words in a document. It converts text into numerical vectors, where each dimension represents a word's importance relative to the document. It evaluates how frequently a word appears in a document (TF) and scales it by how rare the word is across all documents (IDF). \n",
    "\n",
    "I limited the number of new features to 5000, and set the ngram_range in a way that it would find bigrams and trigrams as well."
   ]
  },
  {
   "cell_type": "code",
   "execution_count": 594,
   "id": "0260a9bd",
   "metadata": {},
   "outputs": [],
   "source": [
    "# Use TF-IDF Vectorizer to embed text\n",
    "\n",
    "def encode_text(plain_text):\n",
    "    tfidf_vectorizer = TfidfVectorizer(max_features=5000, ngram_range=(1,3))\n",
    "    return tfidf_vectorizer.fit_transform(plain_text)"
   ]
  },
  {
   "cell_type": "code",
   "execution_count": 595,
   "id": "54a5e24f",
   "metadata": {},
   "outputs": [
    {
     "data": {
      "text/plain": [
       "(4924, 5000)"
      ]
     },
     "execution_count": 595,
     "metadata": {},
     "output_type": "execute_result"
    }
   ],
   "source": [
    "tfidf_matrix = encode_text(df['Cleaned_Text'])\n",
    "tfidf_matrix.shape"
   ]
  },
  {
   "cell_type": "markdown",
   "id": "6ee76e21",
   "metadata": {},
   "source": [
    "In my experiments with various models, PCA didn't have a positive impact and lowered the accuracy. Therefore I decided not to use pca and used the embeded data without dimension reduction."
   ]
  },
  {
   "cell_type": "code",
   "execution_count": 605,
   "id": "ba26373d",
   "metadata": {},
   "outputs": [],
   "source": [
    "# n_components = 200\n",
    "# pca = PCA(n_components=n_components)\n",
    "# tfidf_matrix_PCA = pca.fit_transform(tfidf_matrix.toarray())"
   ]
  },
  {
   "cell_type": "markdown",
   "id": "2332e57f",
   "metadata": {},
   "source": [
    "## Utility Functions"
   ]
  },
  {
   "cell_type": "markdown",
   "id": "752ef067",
   "metadata": {},
   "source": [
    "I created three utility functions to simplify training and testing various models.\n",
    "\n",
    "The `perform_cross_validation()` function uses stratified CV to improve results on the imbalanced dataset."
   ]
  },
  {
   "cell_type": "code",
   "execution_count": 530,
   "id": "76642fdf",
   "metadata": {},
   "outputs": [],
   "source": [
    "def train_model(model, X_train, y_train):\n",
    "    model.fit(X_train, y_train)\n",
    "    print(f\"Mean accuracy of train set: {model.score(X_train, y_train):4f}\")"
   ]
  },
  {
   "cell_type": "code",
   "execution_count": 532,
   "id": "6105ef17",
   "metadata": {},
   "outputs": [],
   "source": [
    "sentiments = ['ANGRY', 'FEAR', 'HAPPY', 'OTHER', 'SAD']\n",
    "\n",
    "def test_model(model, x_test, y_test):\n",
    "    y_pred = model.predict(x_test)\n",
    "\n",
    "    # Calculate accuracy\n",
    "    accuracy = accuracy_score(y_test, y_pred)\n",
    "    print(f\"Accuracy: {accuracy: >.6}\\n\")\n",
    "\n",
    "    # Calculate Precision, Recall, and F1 score\n",
    "    print(classification_report(y_test, y_pred))\n",
    "\n",
    "    # Calculate confusion matrix\n",
    "    conf_matrix = confusion_matrix(y_test, y_pred)\n",
    "\n",
    "    plt.figure(figsize=[8,3])\n",
    "    plt.subplot(1, 2, 1)\n",
    "    sns.heatmap(conf_matrix, annot=True, fmt='d', cmap='crest', cbar=False, linewidths=1,\n",
    "                xticklabels=[f'Predicted {sentiment}' for sentiment in sentiments],\n",
    "                yticklabels=[f'Actual {sentiment}' for sentiment in sentiments])\n",
    "\n",
    "    plt.title('Confusion Matrix')\n",
    "\n",
    "    plt.show()"
   ]
  },
  {
   "cell_type": "code",
   "execution_count": 533,
   "id": "187ea57d",
   "metadata": {},
   "outputs": [],
   "source": [
    "def perform_cross_validation(model, X, y, repeats=2, folds=5):\n",
    "    cv = RepeatedStratifiedKFold(n_splits=folds, n_repeats=repeats, random_state=13)\n",
    "    scores = cross_val_score(model, X, y, scoring='accuracy', cv=cv, n_jobs=-1)\n",
    "\n",
    "    print(\"Cross-validation scores:\", scores)\n",
    "    print(\"Best result:\", max(scores))\n",
    "    "
   ]
  },
  {
   "cell_type": "markdown",
   "id": "bb40e22d",
   "metadata": {},
   "source": [
    "## Train and Evaluate Models"
   ]
  },
  {
   "cell_type": "markdown",
   "id": "68af1253",
   "metadata": {},
   "source": [
    "A MaxAbs scaler is used to scale all of the train data. The target variable remains untouched."
   ]
  },
  {
   "cell_type": "code",
   "execution_count": 609,
   "id": "cb7f2b40",
   "metadata": {},
   "outputs": [],
   "source": [
    "X = hstack((tfidf_matrix, df[['Word_Count', 'Happy_Words', 'Sad_Words', 'Angry_Words', 'Fear_Words']].values))\n",
    "y = df['Sentiment']"
   ]
  },
  {
   "cell_type": "code",
   "execution_count": 610,
   "id": "02db14fd",
   "metadata": {},
   "outputs": [],
   "source": [
    "scaler = MaxAbsScaler()\n",
    "X = scaler.fit_transform(X)"
   ]
  },
  {
   "cell_type": "code",
   "execution_count": 611,
   "id": "58bd1c05",
   "metadata": {},
   "outputs": [],
   "source": [
    "X_train, X_test, y_train, y_test = train_test_split(X, y, test_size=0.2, random_state=13)"
   ]
  },
  {
   "cell_type": "markdown",
   "id": "9e525259",
   "metadata": {},
   "source": [
    "### Random Forest Classifier"
   ]
  },
  {
   "cell_type": "markdown",
   "id": "f3a66c0f",
   "metadata": {},
   "source": [
    "First I used a Random Forest Classifier with the class_weights set to balanced. This parameter can help with imbalanced datasets."
   ]
  },
  {
   "cell_type": "code",
   "execution_count": 599,
   "id": "7e88f73c",
   "metadata": {},
   "outputs": [
    {
     "name": "stdout",
     "output_type": "stream",
     "text": [
      "Mean accuracy of train set: 0.998985\n"
     ]
    }
   ],
   "source": [
    "random_forest_model = RandomForestClassifier(class_weight='balanced', random_state=13)\n",
    "train_model(random_forest_model, X_train, y_train)"
   ]
  },
  {
   "cell_type": "code",
   "execution_count": 600,
   "id": "c233e2e1",
   "metadata": {},
   "outputs": [
    {
     "name": "stdout",
     "output_type": "stream",
     "text": [
      "Accuracy: 0.588832\n",
      "\n",
      "              precision    recall  f1-score   support\n",
      "\n",
      "       ANGRY       0.64      0.38      0.48       188\n",
      "        FEAR       0.64      0.49      0.55        72\n",
      "       HAPPY       0.82      0.76      0.79       304\n",
      "       OTHER       0.44      0.68      0.53       252\n",
      "         SAD       0.49      0.41      0.45       169\n",
      "\n",
      "    accuracy                           0.59       985\n",
      "   macro avg       0.61      0.55      0.56       985\n",
      "weighted avg       0.62      0.59      0.59       985\n",
      "\n"
     ]
    },
    {
     "data": {
      "image/png": "[encoded data removed]",
      "text/plain": [
       "<Figure size 800x300 with 1 Axes>"
      ]
     },
     "metadata": {},
     "output_type": "display_data"
    }
   ],
   "source": [
    "test_model(random_forest_model, X_test, y_test)"
   ]
  },
  {
   "cell_type": "markdown",
   "id": "ac5ff385",
   "metadata": {},
   "source": [
    "As you can see below, the balanced version of random forest has better CV results. (as expected)"
   ]
  },
  {
   "cell_type": "code",
   "execution_count": 601,
   "id": "386cd458",
   "metadata": {},
   "outputs": [
    {
     "name": "stdout",
     "output_type": "stream",
     "text": [
      "Cross-validation scores: [0.57360406 0.62030457 0.59086294 0.61928934 0.60162602 0.5857868\n",
      " 0.61116751 0.60812183 0.59086294 0.58638211]\n",
      "Best result: 0.6203045685279188\n"
     ]
    }
   ],
   "source": [
    "perform_cross_validation(RandomForestClassifier(random_state=13), X, y, folds=5)"
   ]
  },
  {
   "cell_type": "code",
   "execution_count": 608,
   "id": "7c1e573f",
   "metadata": {},
   "outputs": [
    {
     "name": "stdout",
     "output_type": "stream",
     "text": [
      "Cross-validation scores: [0.5715736  0.62944162 0.57360406 0.6213198  0.5995935  0.58680203\n",
      " 0.62030457 0.60913706 0.60101523 0.58434959]\n",
      "Best result: 0.6294416243654822\n"
     ]
    }
   ],
   "source": [
    "perform_cross_validation(RandomForestClassifier(class_weight='balanced', random_state=13), X, y, folds=5)"
   ]
  },
  {
   "cell_type": "markdown",
   "id": "17906c81",
   "metadata": {},
   "source": [
    "### Balanced Random Forest Classifier"
   ]
  },
  {
   "cell_type": "markdown",
   "id": "cf98b967",
   "metadata": {},
   "source": [
    "The `BalancedRandomForestClassifier` is designed to work with imbalanced datasets (from `imblearn`)"
   ]
  },
  {
   "cell_type": "code",
   "execution_count": 612,
   "id": "1b759ffe",
   "metadata": {},
   "outputs": [
    {
     "name": "stdout",
     "output_type": "stream",
     "text": [
      "Mean accuracy of train set: 0.791064\n"
     ]
    }
   ],
   "source": [
    "balanced_random_forest = BalancedRandomForestClassifier(bootstrap=True, replacement=True, sampling_strategy='all')\n",
    "train_model(balanced_random_forest, X_train, y_train)"
   ]
  },
  {
   "cell_type": "code",
   "execution_count": 613,
   "id": "da2a3de5",
   "metadata": {},
   "outputs": [
    {
     "name": "stdout",
     "output_type": "stream",
     "text": [
      "Accuracy: 0.568528\n",
      "\n",
      "              precision    recall  f1-score   support\n",
      "\n",
      "       ANGRY       0.59      0.39      0.47       188\n",
      "        FEAR       0.46      0.64      0.54        72\n",
      "       HAPPY       0.83      0.68      0.75       304\n",
      "       OTHER       0.43      0.59      0.50       252\n",
      "         SAD       0.49      0.50      0.50       169\n",
      "\n",
      "    accuracy                           0.57       985\n",
      "   macro avg       0.56      0.56      0.55       985\n",
      "weighted avg       0.60      0.57      0.57       985\n",
      "\n"
     ]
    },
    {
     "data": {
      "image/png": "[encoded data removed]",
      "text/plain": [
       "<Figure size 800x300 with 1 Axes>"
      ]
     },
     "metadata": {},
     "output_type": "display_data"
    }
   ],
   "source": [
    "test_model(balanced_random_forest, X_test, y_test)"
   ]
  },
  {
   "cell_type": "markdown",
   "id": "afd433e0",
   "metadata": {},
   "source": [
    "However the results are slightly worse than the Random Forest with weights set to balanced.\n",
    "\n",
    "**Note that while accuracy is reduced, Recall is increased compared to the previous model.**"
   ]
  },
  {
   "cell_type": "code",
   "execution_count": 614,
   "id": "1ef114b0",
   "metadata": {},
   "outputs": [
    {
     "name": "stdout",
     "output_type": "stream",
     "text": [
      "Cross-validation scores: [0.59517766 0.56345178 0.58502538 0.56598985 0.57560356 0.58248731\n",
      " 0.59390863 0.55837563 0.56472081 0.56670902]\n",
      "Best result: 0.5951776649746193\n"
     ]
    }
   ],
   "source": [
    "balanced_random_forest = BalancedRandomForestClassifier(bootstrap=True, replacement=True, sampling_strategy='all')\n",
    "perform_cross_validation(balanced_random_forest, X_train, y_train)"
   ]
  },
  {
   "cell_type": "markdown",
   "id": "08978c21",
   "metadata": {},
   "source": [
    "### Support Vector Classifier"
   ]
  },
  {
   "cell_type": "markdown",
   "id": "57bd4d58",
   "metadata": {},
   "source": [
    "Finally I used a support vector classifier to be able to compare the tree-based models with a different model."
   ]
  },
  {
   "cell_type": "code",
   "execution_count": 615,
   "id": "89ab9f54",
   "metadata": {},
   "outputs": [
    {
     "name": "stdout",
     "output_type": "stream",
     "text": [
      "Mean accuracy of train set: 0.928154\n"
     ]
    }
   ],
   "source": [
    "svc = SVC(kernel='rbf', C=1.0)\n",
    "train_model(svc, X_train, y_train)"
   ]
  },
  {
   "cell_type": "code",
   "execution_count": 616,
   "id": "2c0db67e",
   "metadata": {},
   "outputs": [
    {
     "name": "stdout",
     "output_type": "stream",
     "text": [
      "Accuracy: 0.593909\n",
      "\n",
      "              precision    recall  f1-score   support\n",
      "\n",
      "       ANGRY       0.62      0.47      0.54       188\n",
      "        FEAR       0.49      0.50      0.50        72\n",
      "       HAPPY       0.83      0.74      0.78       304\n",
      "       OTHER       0.44      0.69      0.54       252\n",
      "         SAD       0.58      0.36      0.45       169\n",
      "\n",
      "    accuracy                           0.59       985\n",
      "   macro avg       0.59      0.55      0.56       985\n",
      "weighted avg       0.62      0.59      0.60       985\n",
      "\n"
     ]
    },
    {
     "data": {
      "image/png": "[encoded data removed]",
      "text/plain": [
       "<Figure size 800x300 with 1 Axes>"
      ]
     },
     "metadata": {},
     "output_type": "display_data"
    }
   ],
   "source": [
    "test_model(svc, X_test, y_test)"
   ]
  },
  {
   "cell_type": "markdown",
   "id": "d797af11",
   "metadata": {},
   "source": [
    "SVC performs slightly better than the tree-based models."
   ]
  },
  {
   "cell_type": "code",
   "execution_count": 617,
   "id": "4ecafc55",
   "metadata": {},
   "outputs": [
    {
     "name": "stdout",
     "output_type": "stream",
     "text": [
      "Cross-validation scores: [0.57664975 0.63857868 0.5857868  0.61015228 0.60365854 0.59695431\n",
      " 0.60812183 0.60913706 0.60812183 0.57926829]\n",
      "Best result: 0.6385786802030456\n"
     ]
    }
   ],
   "source": [
    "svc = SVC(kernel='rbf', C=1.0)\n",
    "perform_cross_validation(svc, X, y, folds=5)"
   ]
  },
  {
   "cell_type": "markdown",
   "id": "cc4c3f54",
   "metadata": {},
   "source": [
    "A bagging classifier was also used to if any performace difference can occur."
   ]
  },
  {
   "cell_type": "code",
   "execution_count": 618,
   "id": "c020c3b4",
   "metadata": {},
   "outputs": [
    {
     "name": "stdout",
     "output_type": "stream",
     "text": [
      "Cross-validation scores: [0.5786802  0.63654822 0.58172589 0.59796954 0.58333333 0.59796954\n",
      " 0.59796954 0.6071066  0.60304569 0.58231707]\n",
      "Best result: 0.6365482233502539\n"
     ]
    }
   ],
   "source": [
    "svc = SVC(kernel='rbf', C=1.0)\n",
    "baggingClassifier = BaggingClassifier(estimator=svc, n_estimators=10, random_state=13)\n",
    "perform_cross_validation(baggingClassifier, X, y)"
   ]
  },
  {
   "cell_type": "markdown",
   "id": "c0423fa2",
   "metadata": {},
   "source": [
    "## Prediction for Test Data"
   ]
  },
  {
   "cell_type": "markdown",
   "id": "f9904215",
   "metadata": {},
   "source": [
    "In this section, I used the random forest classifier to predict the sentiment of the test data."
   ]
  },
  {
   "cell_type": "code",
   "execution_count": 619,
   "id": "18c95710",
   "metadata": {},
   "outputs": [],
   "source": [
    "test_df = pd.read_csv(\"dataset/3rdHW_test.csv\", header=None)\n",
    "test_df.columns = ['Text']"
   ]
  },
  {
   "cell_type": "code",
   "execution_count": 620,
   "id": "648b75d9",
   "metadata": {},
   "outputs": [
    {
     "name": "stdout",
     "output_type": "stream",
     "text": [
      "Mean accuracy of train set: 0.999188\n"
     ]
    }
   ],
   "source": [
    "prediction_model = RandomForestClassifier(class_weight='balanced', random_state=13)\n",
    "train_model(prediction_model, X, y)"
   ]
  },
  {
   "cell_type": "code",
   "execution_count": 621,
   "id": "56fd4814",
   "metadata": {},
   "outputs": [
    {
     "data": {
      "text/plain": [
       "Index(['Text', 'Happy_Words', 'Sad_Words', 'Angry_Words', 'Fear_Words',\n",
       "       'Word_Count', 'Cleaned_Text'],\n",
       "      dtype='object')"
      ]
     },
     "execution_count": 621,
     "metadata": {},
     "output_type": "execute_result"
    }
   ],
   "source": [
    "extract_features(test_df)\n",
    "test_df['Cleaned_Text'] = test_df['Text'].apply(clean_text)\n",
    "test_df.columns"
   ]
  },
  {
   "cell_type": "code",
   "execution_count": 622,
   "id": "d7695f25",
   "metadata": {},
   "outputs": [],
   "source": [
    "tfidf_matrix_prediction = encode_text(test_df['Cleaned_Text'])\n",
    "X_prediction = hstack((tfidf_matrix_prediction, test_df[['Word_Count', 'Happy_Words', 'Sad_Words', 'Angry_Words', 'Fear_Words']].values))\n",
    "\n",
    "X_prediction = scaler.transform(X_prediction)"
   ]
  },
  {
   "cell_type": "code",
   "execution_count": 623,
   "id": "914faae7",
   "metadata": {},
   "outputs": [],
   "source": [
    "test_df['Sentiment'] = prediction_model.predict(X_prediction)"
   ]
  },
  {
   "cell_type": "code",
   "execution_count": 624,
   "id": "9b5aaeac",
   "metadata": {},
   "outputs": [],
   "source": [
    "prediction = pd.concat([test_df['Text'], test_df['Sentiment']], axis=1)\n",
    "prediction.columns = ['X', 'Y']"
   ]
  },
  {
   "cell_type": "code",
   "execution_count": 625,
   "id": "2db118da",
   "metadata": {},
   "outputs": [],
   "source": [
    "prediction.to_csv('Prediction.csv', index=False)"
   ]
  },
  {
   "cell_type": "code",
   "execution_count": null,
   "id": "9b1df3d1",
   "metadata": {},
   "outputs": [],
   "source": []
  }
 ],
 "metadata": {
  "kernelspec": {
   "display_name": "Python 3 (ipykernel)",
   "language": "python",
   "name": "python3"
  },
  "language_info": {
   "codemirror_mode": {
    "name": "ipython",
    "version": 3
   },
   "file_extension": ".py",
   "mimetype": "text/x-python",
   "name": "python",
   "nbconvert_exporter": "python",
   "pygments_lexer": "ipython3",
   "version": "3.10.4"
  }
 },
 "nbformat": 4,
 "nbformat_minor": 5
}
